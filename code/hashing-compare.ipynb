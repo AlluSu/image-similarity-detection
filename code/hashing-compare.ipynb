{
 "cells": [
  {
   "cell_type": "code",
   "execution_count": null,
   "metadata": {},
   "outputs": [],
   "source": [
    "from PIL import Image\n",
    "import os\n",
    "from os import listdir\n",
    "from pathlib import Path\n",
    "import imagehash\n",
    "import numpy as np\n",
    "import matplotlib.pyplot as plt\n",
    "import cv2\n",
    "import itertools"
   ]
  },
  {
   "attachments": {},
   "cell_type": "markdown",
   "metadata": {},
   "source": [
    "Count duplicates just to be sure"
   ]
  },
  {
   "cell_type": "code",
   "execution_count": null,
   "metadata": {},
   "outputs": [],
   "source": [
    "duplicates = 0\n",
    "# Get all images from the current directory fro the folder called \"sample\" and file extensions does not matter (\"*\")\n",
    "# Switch this path according to your directory structure\n",
    "images = Path(\"sample\").glob('*')\n",
    "# Datastructures for different objects for later processing\n",
    "# List of images\n",
    "image_list = []\n",
    "# List of hashes of the images\n",
    "hashes_list = []\n",
    "# List of dictionaries, where the key is the hash of the image, and the value is the name of the image file\n",
    "hash_image_list = []\n",
    "# List of hashes of the images, which are similar or close to being similar\n",
    "similar_pics_hash_list = []"
   ]
  },
  {
   "cell_type": "code",
   "execution_count": null,
   "metadata": {},
   "outputs": [],
   "source": [
    "for image in images:\n",
    "    image_list.append(image)\n",
    "    # Using average hash, other hash types could be tried for better accuracy\n",
    "    hashes_list.append(imagehash.average_hash(Image.open(image)))\n",
    "    entry = {\"hash\" : imagehash.average_hash(Image.open(image)), \"image_file_name\" : image}\n",
    "    hash_image_list.append(entry)"
   ]
  },
  {
   "attachments": {},
   "cell_type": "markdown",
   "metadata": {},
   "source": [
    "This cutoff value determines the similarity. Smaller for more accurate similarity, larger for not so accurate"
   ]
  },
  {
   "cell_type": "code",
   "execution_count": null,
   "metadata": {},
   "outputs": [],
   "source": [
    "cutoff_value = 4\n",
    "pic_list = []\n",
    "# Go through the hashes of the images and compare them to each other to find the similar images\n",
    "for prev, element in itertools.combinations(hash_image_list, 2):\n",
    "    diff = element[\"hash\"] - prev[\"hash\"]\n",
    "    if diff < cutoff_value:\n",
    "        duplicates = duplicates + 1\n",
    "        pic_list.append((element[\"image_file_name\"], prev[\"image_file_name\"]))\n",
    "        print(\"Similar images: \" + str(element[\"image_file_name\"]) + \" and \" + str(prev[\"image_file_name\"]))\n",
    "        similar_pics_hash_list.append(element[\"hash\"])\n",
    "        similar_pics_hash_list.append(prev[\"hash\"])\n",
    "        print(\"Difference between hashes: \" + str(diff))"
   ]
  },
  {
   "cell_type": "code",
   "execution_count": null,
   "metadata": {},
   "outputs": [],
   "source": [
    "# Print similar images side by side\n",
    "# This stops the program execution and open the images in an image viewer window\n",
    "for image in pic_list:\n",
    "    fig = plt.figure()\n",
    "    img1 = cv2.imread(str(image[0]))\n",
    "    img2 = cv2.imread(str(image[1]))\n",
    "    fig.add_subplot(1, 2, 1)\n",
    "    plt.imshow(img1)\n",
    "    plt.axis('off')\n",
    "    plt.title(image[0])\n",
    "    fig.add_subplot(1, 2, 2)\n",
    "    plt.imshow(img2)\n",
    "    plt.axis('off')\n",
    "    plt.title(image[1])\n",
    "    plt.show()"
   ]
  }
 ],
 "metadata": {
  "kernelspec": {
   "display_name": "Python 3 (ipykernel)",
   "language": "python",
   "name": "python3"
  },
  "language_info": {
   "codemirror_mode": {
    "name": "ipython",
    "version": 3
   },
   "file_extension": ".py",
   "mimetype": "text/x-python",
   "name": "python",
   "nbconvert_exporter": "python",
   "pygments_lexer": "ipython3",
   "version": "3.10.6"
  }
 },
 "nbformat": 4,
 "nbformat_minor": 2
}
